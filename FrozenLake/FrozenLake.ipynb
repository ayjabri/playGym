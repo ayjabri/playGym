{
 "cells": [
  {
   "cell_type": "code",
   "execution_count": 1,
   "metadata": {},
   "outputs": [],
   "source": [
    "import gym\n",
    "import time\n",
    "import math\n",
    "import random\n",
    "import numpy as np\n",
    "import matplotlib.pyplot as plt\n",
    "from IPython.display import clear_output"
   ]
  },
  {
   "cell_type": "code",
   "execution_count": 9,
   "metadata": {},
   "outputs": [],
   "source": [
    "######## Create the envisornment and set up its variables\n",
    "env = gym.make('FrozenLake-v0')\n",
    "# env = gym.make('FrozenLake8x8-v0')\n",
    "action_space_size = env.action_space.n\n",
    "state_space_size = env.observation_space.n\n"
   ]
  },
  {
   "cell_type": "code",
   "execution_count": 10,
   "metadata": {
    "scrolled": true
   },
   "outputs": [
    {
     "data": {
      "text/plain": [
       "array([[0., 0., 0., 0.],\n",
       "       [0., 0., 0., 0.],\n",
       "       [0., 0., 0., 0.],\n",
       "       [0., 0., 0., 0.],\n",
       "       [0., 0., 0., 0.],\n",
       "       [0., 0., 0., 0.],\n",
       "       [0., 0., 0., 0.],\n",
       "       [0., 0., 0., 0.],\n",
       "       [0., 0., 0., 0.],\n",
       "       [0., 0., 0., 0.],\n",
       "       [0., 0., 0., 0.],\n",
       "       [0., 0., 0., 0.],\n",
       "       [0., 0., 0., 0.],\n",
       "       [0., 0., 0., 0.],\n",
       "       [0., 0., 0., 0.],\n",
       "       [0., 0., 0., 0.]])"
      ]
     },
     "execution_count": 10,
     "metadata": {},
     "output_type": "execute_result"
    }
   ],
   "source": [
    "####### Build the Q table that we'll be using to reference actions\n",
    "q_table = np.zeros((state_space_size, action_space_size))\n",
    "q_table"
   ]
  },
  {
   "cell_type": "code",
   "execution_count": 11,
   "metadata": {},
   "outputs": [],
   "source": [
    "num_episodes = 10_000\n",
    "max_steps_per_episode = 100\n",
    "\n",
    "learning_rate = 0.1\n",
    "discount_rate = 0.99\n",
    "\n",
    "exploration_rate = 1\n",
    "max_exploration_rate = 1\n",
    "min_exploration_rate = 0.01\n",
    "exploration_decay_rate = 0.001"
   ]
  },
  {
   "cell_type": "code",
   "execution_count": 12,
   "metadata": {
    "scrolled": true
   },
   "outputs": [],
   "source": [
    "##### Learning Loop\n",
    "rewards_all_episodes = []\n",
    "\n",
    "for episode in range(num_episodes):\n",
    "    state = env.reset()\n",
    "    done = False\n",
    "    rewards_current_episode = 0\n",
    "\n",
    "    for step in range(max_steps_per_episode): \n",
    "\n",
    "        # Exploration-exploitation trade-off\n",
    "        exploration_rate_threshold = random.uniform(0, 1)\n",
    "        if exploration_rate_threshold > exploration_rate:\n",
    "            action = np.argmax(q_table[state,:]) \n",
    "        else:\n",
    "            action = env.action_space.sample()\n",
    "\n",
    "        new_state, reward, done, info = env.step(action)\n",
    "\n",
    "        # Update Q-table for Q(s,a)\n",
    "        q_table[state, action] = q_table[state, action] * (1 - learning_rate) + \\\n",
    "            learning_rate * (reward + discount_rate * np.max(q_table[new_state, :]))\n",
    "        \n",
    "        state = new_state\n",
    "        rewards_current_episode += reward \n",
    "        \n",
    "        if done == True: \n",
    "            break\n",
    "    # Exploration rate decay\n",
    "    exploration_rate = min_exploration_rate + \\\n",
    "        (max_exploration_rate - min_exploration_rate) * np.exp(-exploration_decay_rate*episode)\n",
    "    rewards_all_episodes.append(rewards_current_episode)"
   ]
  },
  {
   "cell_type": "code",
   "execution_count": 13,
   "metadata": {},
   "outputs": [
    {
     "name": "stdout",
     "output_type": "stream",
     "text": [
      "**********  Rewards Per 1000 Episode  ********** \n",
      "\n",
      "\n",
      "1000: 0.051\n",
      "2000: 0.234\n",
      "3000: 0.387\n",
      "4000: 0.573\n",
      "5000: 0.607\n",
      "6000: 0.645\n",
      "7000: 0.697\n",
      "8000: 0.673\n",
      "9000: 0.7\n",
      "10000: 0.696\n"
     ]
    }
   ],
   "source": [
    "rewards_per_thousand = np.split(np.array(rewards_all_episodes),num_episodes/1000)\n",
    "print('*'*10,' Rewards Per 1000 Episode ','*'*10,'\\n\\n')\n",
    "\n",
    "for i in range(len(rewards_per_thousand)):\n",
    "    print(f'{(i+1) *1000}: {rewards_per_thousand[i].mean()}')"
   ]
  },
  {
   "cell_type": "code",
   "execution_count": 14,
   "metadata": {},
   "outputs": [
    {
     "name": "stdout",
     "output_type": "stream",
     "text": [
      "*** Policy π ***\n",
      "LUUU\n",
      "LLLL\n",
      "UDLL\n",
      "LRDL\n"
     ]
    }
   ],
   "source": [
    "'''\n",
    "Possible Actions:\n",
    "Left  = 0 \n",
    "Down  = 1\n",
    "Right = 2\n",
    "Up    = 3\n",
    "'''\n",
    "n = int(np.sqrt(state_space_size))\n",
    "policy = np.argmax(q_table,axis=1)\n",
    "moves = ['L','D','R','U']\n",
    "solution = np.empty(state_space_size,dtype=np.str)\n",
    "for i,j in enumerate(policy):\n",
    "    solution[i] = moves[j]\n",
    "\n",
    "t = ''.join(i for i in solution)\n",
    "print(f'*** Policy \\u03C0 ***\\n{t[:n]}\\n{t[n:2*n]}\\n{t[2*n:3*n]}\\n{t[3*n:4*n]}')"
   ]
  },
  {
   "cell_type": "code",
   "execution_count": 15,
   "metadata": {},
   "outputs": [
    {
     "name": "stdout",
     "output_type": "stream",
     "text": [
      "*** Successfull ***\n"
     ]
    }
   ],
   "source": [
    "for e in range(10):\n",
    "    state = env.reset()\n",
    "    done = False\n",
    "    while not done:\n",
    "        env.render()\n",
    "        time.sleep(0.09)\n",
    "        clear_output(wait=True)\n",
    "        action = np.argmax(q_table[state])\n",
    "        new_state,reward,done,_ = env.step(action)\n",
    "        state = new_state\n",
    "        if reward == 1:\n",
    "            print('*** Successfull ***')\n",
    "            time.sleep(1)\n",
    "            break\n",
    "        if done:\n",
    "            print('*** Sorry ***')\n",
    "            time.sleep(0.3)\n",
    "            break"
   ]
  },
  {
   "cell_type": "code",
   "execution_count": null,
   "metadata": {},
   "outputs": [],
   "source": []
  }
 ],
 "metadata": {
  "kernelspec": {
   "display_name": "Python 3",
   "language": "python",
   "name": "python3"
  },
  "language_info": {
   "codemirror_mode": {
    "name": "ipython",
    "version": 3
   },
   "file_extension": ".py",
   "mimetype": "text/x-python",
   "name": "python",
   "nbconvert_exporter": "python",
   "pygments_lexer": "ipython3",
   "version": "3.7.6"
  }
 },
 "nbformat": 4,
 "nbformat_minor": 4
}
