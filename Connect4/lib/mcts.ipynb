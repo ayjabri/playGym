{
 "cells": [
  {
   "cell_type": "markdown",
   "metadata": {},
   "source": [
    "# Monte Carlo Tree Search algorithm"
   ]
  },
  {
   "cell_type": "markdown",
   "metadata": {},
   "source": [
    "First we import the necessary libraries needed for the search"
   ]
  },
  {
   "cell_type": "code",
   "execution_count": 1,
   "metadata": {},
   "outputs": [],
   "source": [
    "import math\n",
    "import torch\n",
    "import numpy as np"
   ]
  },
  {
   "cell_type": "code",
   "execution_count": 13,
   "metadata": {},
   "outputs": [
    {
     "ename": "ImportError",
     "evalue": "cannot import name 'game' from 'lib' (unknown location)",
     "output_type": "error",
     "traceback": [
      "\u001b[1;31m---------------------------------------------------------------------------\u001b[0m",
      "\u001b[1;31mImportError\u001b[0m                               Traceback (most recent call last)",
      "\u001b[1;32m<ipython-input-13-b7450210bd4f>\u001b[0m in \u001b[0;36m<module>\u001b[1;34m\u001b[0m\n\u001b[1;32m----> 1\u001b[1;33m \u001b[1;32mimport\u001b[0m \u001b[0mmodel\u001b[0m\u001b[1;33m\u001b[0m\u001b[1;33m\u001b[0m\u001b[0m\n\u001b[0m",
      "\u001b[1;32m~\\Downloads\\playGym\\4connect\\lib\\model.py\u001b[0m in \u001b[0;36m<module>\u001b[1;34m\u001b[0m\n\u001b[0;32m      5\u001b[0m \u001b[1;32mimport\u001b[0m \u001b[0mtorch\u001b[0m\u001b[1;33m.\u001b[0m\u001b[0mnn\u001b[0m \u001b[1;32mas\u001b[0m \u001b[0mnn\u001b[0m\u001b[1;33m\u001b[0m\u001b[1;33m\u001b[0m\u001b[0m\n\u001b[0;32m      6\u001b[0m \u001b[1;33m\u001b[0m\u001b[0m\n\u001b[1;32m----> 7\u001b[1;33m \u001b[1;32mfrom\u001b[0m \u001b[0mlib\u001b[0m \u001b[1;32mimport\u001b[0m \u001b[0mgame\u001b[0m\u001b[1;33m,\u001b[0m \u001b[0mmcts\u001b[0m\u001b[1;33m\u001b[0m\u001b[1;33m\u001b[0m\u001b[0m\n\u001b[0m\u001b[0;32m      8\u001b[0m \u001b[1;33m\u001b[0m\u001b[0m\n\u001b[0;32m      9\u001b[0m \u001b[1;33m\u001b[0m\u001b[0m\n",
      "\u001b[1;31mImportError\u001b[0m: cannot import name 'game' from 'lib' (unknown location)"
     ]
    }
   ],
   "source": [
    "import model"
   ]
  },
  {
   "cell_type": "code",
   "execution_count": 12,
   "metadata": {},
   "outputs": [],
   "source": [
    "import game"
   ]
  },
  {
   "cell_type": "markdown",
   "metadata": {},
   "source": [
    "## MCTS functions:\n",
    "1- Initialization:  \n",
    "    > c_pcut: used to increase exploration*"
   ]
  },
  {
   "cell_type": "code",
   "execution_count": null,
   "metadata": {},
   "outputs": [],
   "source": [
    "class MCTS:\n",
    "    \"\"\"\n",
    "    MonteCarlo Search Tree(MCTS): \n",
    "    \"\"\"\n",
    "    def __init__(self, c_puct=1.0):\n",
    "        self.c_puct = c_puct\n",
    "        # visi count: -> [N(s,a)]\n",
    "        self.visit_count = {}\n",
    "        # value: -> [W(s,a)]\n",
    "        self.value = {}\n",
    "        # value average: -> [Q(s,a)]\n",
    "        self.value_avg = {}\n",
    "        # prior probability -> [P(s,a)]\n",
    "        self.prob = {}\n",
    "    \n",
    "    def __len__(self):\n",
    "        \"\"\"Return the object length \"\"\"\n",
    "        return len(self.value)\n",
    "    \n",
    "    def is_leaf(self, state_int):\n",
    "        \"\"\"\n",
    "        Checks whether the state has been explored\n",
    "        before or not. i.e. leaf node\n",
    "        \"\"\"\n",
    "        return state_int not in self.prob\n",
    "    \n",
    "    def find_leaf(self,state_int, player):\n",
    "        \"\"\"\n",
    "        Description: finds a leaf state and return its value, state_int, player and the states and actions that lead to \n",
    "            the leaf state.\n",
    "        \n",
    "        Action with highest score is selected from a list of possible actions at each state\n",
    "        A random noise is added to score to imporve exploration\n",
    "        It returns value of -1.0 if currrent player wins, or 0.0 in the case of a draw. Otherwise value remains None\n",
    "        \"\"\"\n",
    "        states = []\n",
    "        actions = []\n",
    "        cur_state = state_int\n",
    "        cur_player = player\n",
    "        value = None\n",
    "        while not self.is_leaf(cur_state):\n",
    "            states.append(cur_state)\n",
    "            \n",
    "            # Gather statistics about the current node in order to decicde which action to take\n",
    "            counts = self.count[cur_state]\n",
    "            total_counts = math.sqrt(sum(count))\n",
    "            value_avg = self.value_avg[cur_state]\n",
    "            probs = self.prob[cur_state]\n",
    "            \n",
    "            # add some noise to starting point to imporve exploration\n",
    "            if cur_state == state_int:\n",
    "                noises = np.random.dirichlet([0.03]*game.GAME_COLS)\n",
    "                probs = [0.75 * prob + 0.25 * noise for prob,noise in zip(probs,noises)]\n",
    "            \n",
    "            # Action:\n",
    "            score = [value + self.c_puct * prob * total_counts/(1+count) for value,prob,count in zip(value_avg,probs,counts)]\n",
    "            # Insure invalid actions are not selected\n",
    "            invalid_actions = set(range(game.GAME_COLS)) - set(game.possible_moves(cur_state))\n",
    "            for invalid in invalid_actions:\n",
    "                score[invalid] = -np.inf\n",
    "            # select action with highest score\n",
    "            action = int(np.argmax(score))\n",
    "            # play the action\n",
    "            cur_state, won = game.move(cur_state, action, cur_player)\n",
    "            # switch player from 0 -> 1 or vice versa\n",
    "            cur_player = 1 - cur_player\n",
    "            # Check if someone won\n",
    "            if won is not None:\n",
    "                # we set the value to -1.0 because we switched the player in the previous step\n",
    "                value = -1.0\n",
    "            # if there is a draw\n",
    "            if value is None and len(game.possible_moves(cur_state))==0:\n",
    "                value = 0.0\n",
    "                \n",
    "        return value, cur_state, cur_player, states, actions\n",
    "    \n",
    "    def search_minibatch(self,batch_size,state_int,player,net,device='cpu'):\n",
    "        \"\"\"\n",
    "        Find a batch of leafs and explode them\n",
    "        \"\"\"\n",
    "        backup_queue = []\n",
    "        expand_states = []\n",
    "        expand_players = []\n",
    "        expand_queue = []\n",
    "        planned = set()\n",
    "        \n",
    "        for _ in range(batch_size):\n",
    "            value, leaf_state, leaf_player, states, actions = self.find_leaf(state_int, player)\n",
    "            if value is not None:\n",
    "                backup_queue.append((value, states, actions))\n",
    "            else:\n",
    "                if leaf_state not in planned:\n",
    "                    planned.add(leaf_state)\n",
    "                    leaf_state_list = game.decode_binary(leaf_state)\n",
    "                    expand_states.append(leaf_state_list)\n",
    "                    expand_players.append(leaf_player)\n",
    "                    expand_queue.append((leaf_state, states, actions))\n",
    "        \n",
    "        # Expand the new leafs if there is any\n",
    "        if expand_queue:\n",
    "            batch = model.\n",
    "        \n",
    "    "
   ]
  },
  {
   "cell_type": "code",
   "execution_count": null,
   "metadata": {},
   "outputs": [],
   "source": []
  },
  {
   "cell_type": "code",
   "execution_count": null,
   "metadata": {},
   "outputs": [],
   "source": [
    "mcts = MCTS()\n",
    "state_int = game.INITIAL_STATE\n"
   ]
  },
  {
   "cell_type": "code",
   "execution_count": null,
   "metadata": {},
   "outputs": [],
   "source": [
    "mcts.find_leaf(state_int, 1)"
   ]
  },
  {
   "cell_type": "code",
   "execution_count": null,
   "metadata": {},
   "outputs": [],
   "source": []
  },
  {
   "cell_type": "code",
   "execution_count": null,
   "metadata": {},
   "outputs": [],
   "source": []
  }
 ],
 "metadata": {
  "kernelspec": {
   "display_name": "Python 3",
   "language": "python",
   "name": "python3"
  },
  "language_info": {
   "codemirror_mode": {
    "name": "ipython",
    "version": 3
   },
   "file_extension": ".py",
   "mimetype": "text/x-python",
   "name": "python",
   "nbconvert_exporter": "python",
   "pygments_lexer": "ipython3",
   "version": "3.8.5"
  }
 },
 "nbformat": 4,
 "nbformat_minor": 4
}
